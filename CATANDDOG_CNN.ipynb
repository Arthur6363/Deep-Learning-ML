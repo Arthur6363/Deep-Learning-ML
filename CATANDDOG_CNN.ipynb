{
  "metadata": {
    "kernelspec": {
      "language": "python",
      "display_name": "Python 3",
      "name": "python3"
    },
    "language_info": {
      "name": "python",
      "version": "3.10.13",
      "mimetype": "text/x-python",
      "codemirror_mode": {
        "name": "ipython",
        "version": 3
      },
      "pygments_lexer": "ipython3",
      "nbconvert_exporter": "python",
      "file_extension": ".py"
    },
    "kaggle": {
      "accelerator": "none",
      "dataSources": [
        {
          "sourceId": 30378,
          "sourceType": "datasetVersion",
          "datasetId": 23777
        },
        {
          "sourceId": 8144648,
          "sourceType": "datasetVersion",
          "datasetId": 4816052
        },
        {
          "sourceId": 8144809,
          "sourceType": "datasetVersion",
          "datasetId": 4816167
        },
        {
          "sourceId": 8144828,
          "sourceType": "datasetVersion",
          "datasetId": 4816181
        }
      ],
      "dockerImageVersionId": 30684,
      "isInternetEnabled": true,
      "language": "python",
      "sourceType": "notebook",
      "isGpuEnabled": false
    },
    "colab": {
      "name": "CATANDDOG_CNN",
      "provenance": [],
      "include_colab_link": true
    }
  },
  "nbformat_minor": 0,
  "nbformat": 4,
  "cells": [
    {
      "cell_type": "markdown",
      "metadata": {
        "id": "view-in-github",
        "colab_type": "text"
      },
      "source": [
        "<a href=\"https://colab.research.google.com/github/Arthur6363/Deep-Learning-ML/blob/main/CATANDDOG_CNN.ipynb\" target=\"_parent\"><img src=\"https://colab.research.google.com/assets/colab-badge.svg\" alt=\"Open In Colab\"/></a>"
      ]
    },
    {
      "source": [
        "\n",
        "# IMPORTANT: RUN THIS CELL IN ORDER TO IMPORT YOUR KAGGLE DATA SOURCES\n",
        "# TO THE CORRECT LOCATION (/kaggle/input) IN YOUR NOTEBOOK,\n",
        "# THEN FEEL FREE TO DELETE THIS CELL.\n",
        "# NOTE: THIS NOTEBOOK ENVIRONMENT DIFFERS FROM KAGGLE'S PYTHON\n",
        "# ENVIRONMENT SO THERE MAY BE MISSING LIBRARIES USED BY YOUR\n",
        "# NOTEBOOK.\n",
        "\n",
        "import os\n",
        "import sys\n",
        "from tempfile import NamedTemporaryFile\n",
        "from urllib.request import urlopen\n",
        "from urllib.parse import unquote, urlparse\n",
        "from urllib.error import HTTPError\n",
        "from zipfile import ZipFile\n",
        "import tarfile\n",
        "import shutil\n",
        "\n",
        "CHUNK_SIZE = 40960\n",
        "DATA_SOURCE_MAPPING = 'cat-and-dog:https%3A%2F%2Fstorage.googleapis.com%2Fkaggle-data-sets%2F23777%2F30378%2Fbundle%2Farchive.zip%3FX-Goog-Algorithm%3DGOOG4-RSA-SHA256%26X-Goog-Credential%3Dgcp-kaggle-com%2540kaggle-161607.iam.gserviceaccount.com%252F20240417%252Fauto%252Fstorage%252Fgoog4_request%26X-Goog-Date%3D20240417T101119Z%26X-Goog-Expires%3D259200%26X-Goog-SignedHeaders%3Dhost%26X-Goog-Signature%3D95ee5f40d43d57a20aefbf07d49630c730ef1c16764e49e42ae1721513695a5a338abd9c2fcd19ce26869cd0ff6171fcd85b3f61adc8d12492c52cc2288de536b1f9994e37a69bd6cad103b33d696c24df756d87cf70793ac1450948fc2e6ce0a7a2909418bdfca7cb88d96470697cde9678e5a5a6d6778c64440be63e4d88100394c7ebfe4e293ce48d0994880709033e6fd5f47d217899922f93f7b9795fa9506bce09e4f27e613dd89f62e4ea40d8a57b9ee403a943389cf281052520974df4ec66493a1800f3044b52db0f5a7d4c86c92e8f5fb3b1e2902558af891c021777e3168eeb827ec7c8289c2b18a0bb1fef4f6da288369ece1a9b3b7f3dc66241,kedi-predict:https%3A%2F%2Fstorage.googleapis.com%2Fkaggle-data-sets%2F4816052%2F8144648%2Fbundle%2Farchive.zip%3FX-Goog-Algorithm%3DGOOG4-RSA-SHA256%26X-Goog-Credential%3Dgcp-kaggle-com%2540kaggle-161607.iam.gserviceaccount.com%252F20240417%252Fauto%252Fstorage%252Fgoog4_request%26X-Goog-Date%3D20240417T101119Z%26X-Goog-Expires%3D259200%26X-Goog-SignedHeaders%3Dhost%26X-Goog-Signature%3D732b662471f91cc2332c1adcb9d3455c7e4f91260a29ddd40793112f9243af8ced211be7463c8cfcdd53798e14b520aa6a0b110290fa43f3c963a2401a102ad35cdb03113fed502ee43547340dd8165be12d9af1575b89d72e6144c82798b7ecd78bdc521222b3c8349472c0f9c424817dc25ad75d71746ab365ccfacdd4d02e2863c0f273fb6e08e5f074fc1730a1d2804ea44824c1ddf12b233c28727a80706e74f90624bf6f9055c89c887c751f617227ee23babd0a8652f67dc93cfdfc0669fb6706b1d49678080c5241ed2d3d9acaf4f69d6576511e4b1503466172e8ad2bb0e0cc6c9c408e2b17b5781fbe07bde473b2dbd576ba0c284c55e8ffdbd77e,carrrrrr:https%3A%2F%2Fstorage.googleapis.com%2Fkaggle-data-sets%2F4816167%2F8144809%2Fbundle%2Farchive.zip%3FX-Goog-Algorithm%3DGOOG4-RSA-SHA256%26X-Goog-Credential%3Dgcp-kaggle-com%2540kaggle-161607.iam.gserviceaccount.com%252F20240417%252Fauto%252Fstorage%252Fgoog4_request%26X-Goog-Date%3D20240417T101119Z%26X-Goog-Expires%3D259200%26X-Goog-SignedHeaders%3Dhost%26X-Goog-Signature%3D974e0ce05534ebd4a5202f53afc499fe5a2ce7447c5592b814ad57d7683958ac439f76fd5660f5fbda1018f20f83df69b576c492227a1d1eac87c1491cd3a5c95601a1cf789b39690668e3b1d23456ad40517af2644f08379db8cf8dbe00a017334249eb700546be85581c7b2e01e6968a1be2fee60739fa9e850d9bffacf516f9b605c5bd55f06344ac590bcf221031a1442b17c5425e6ba2125ee2b28c77860e1c07522691e147ff6d39d83cd05f4fbaca0d7cb437b976ec99ceb79cdfa8c2139b170fe13535b45e3c0045e4905e6c0537211572f71eb4e1f63d15b775029d91879d4d4085e91c76fa613301b2050b1dcdd5f2545772a6e419ea2fea93043c,dogggggggg:https%3A%2F%2Fstorage.googleapis.com%2Fkaggle-data-sets%2F4816181%2F8144828%2Fbundle%2Farchive.zip%3FX-Goog-Algorithm%3DGOOG4-RSA-SHA256%26X-Goog-Credential%3Dgcp-kaggle-com%2540kaggle-161607.iam.gserviceaccount.com%252F20240417%252Fauto%252Fstorage%252Fgoog4_request%26X-Goog-Date%3D20240417T101119Z%26X-Goog-Expires%3D259200%26X-Goog-SignedHeaders%3Dhost%26X-Goog-Signature%3Daa9e333b955b51af9b91eef83c50a4eaf5acd052680bdb567bcdc35627ed8437916fa8d7fcfc2a5203bab762ef5811175f555ce0cea55b79feeaee098ab5da2c777f38c630a65cdb3cc365f16293d915c585da7f8c2d2ce0b63f2eaeb5144a9ccbd72a594a25866f0e8f7a8ed9e9bbc7ffd8ff3682f12450b94ae97d003712de08d511b888a31386f6da6c6801c9f73ca63bdeaf7f11306413fd815fba57e9c193d06c3737b5402719c8efddc724a70c856d6a7c5b9b7cf9657c4799da0708be13db8a2edfd3ae7235698e6d8f61f56720a8417f1c0dd89e45a51ac86cc880b1897c97c1159590da71d8ab1ba648667b020b51c0be7292171cc197a8bfb70008'\n",
        "\n",
        "KAGGLE_INPUT_PATH='/kaggle/input'\n",
        "KAGGLE_WORKING_PATH='/kaggle/working'\n",
        "KAGGLE_SYMLINK='kaggle'\n",
        "\n",
        "!umount /kaggle/input/ 2> /dev/null\n",
        "shutil.rmtree('/kaggle/input', ignore_errors=True)\n",
        "os.makedirs(KAGGLE_INPUT_PATH, 0o777, exist_ok=True)\n",
        "os.makedirs(KAGGLE_WORKING_PATH, 0o777, exist_ok=True)\n",
        "\n",
        "try:\n",
        "  os.symlink(KAGGLE_INPUT_PATH, os.path.join(\"..\", 'input'), target_is_directory=True)\n",
        "except FileExistsError:\n",
        "  pass\n",
        "try:\n",
        "  os.symlink(KAGGLE_WORKING_PATH, os.path.join(\"..\", 'working'), target_is_directory=True)\n",
        "except FileExistsError:\n",
        "  pass\n",
        "\n",
        "for data_source_mapping in DATA_SOURCE_MAPPING.split(','):\n",
        "    directory, download_url_encoded = data_source_mapping.split(':')\n",
        "    download_url = unquote(download_url_encoded)\n",
        "    filename = urlparse(download_url).path\n",
        "    destination_path = os.path.join(KAGGLE_INPUT_PATH, directory)\n",
        "    try:\n",
        "        with urlopen(download_url) as fileres, NamedTemporaryFile() as tfile:\n",
        "            total_length = fileres.headers['content-length']\n",
        "            print(f'Downloading {directory}, {total_length} bytes compressed')\n",
        "            dl = 0\n",
        "            data = fileres.read(CHUNK_SIZE)\n",
        "            while len(data) > 0:\n",
        "                dl += len(data)\n",
        "                tfile.write(data)\n",
        "                done = int(50 * dl / int(total_length))\n",
        "                sys.stdout.write(f\"\\r[{'=' * done}{' ' * (50-done)}] {dl} bytes downloaded\")\n",
        "                sys.stdout.flush()\n",
        "                data = fileres.read(CHUNK_SIZE)\n",
        "            if filename.endswith('.zip'):\n",
        "              with ZipFile(tfile) as zfile:\n",
        "                zfile.extractall(destination_path)\n",
        "            else:\n",
        "              with tarfile.open(tfile.name) as tarfile:\n",
        "                tarfile.extractall(destination_path)\n",
        "            print(f'\\nDownloaded and uncompressed: {directory}')\n",
        "    except HTTPError as e:\n",
        "        print(f'Failed to load (likely expired) {download_url} to path {destination_path}')\n",
        "        continue\n",
        "    except OSError as e:\n",
        "        print(f'Failed to load {download_url} to path {destination_path}')\n",
        "        continue\n",
        "\n",
        "print('Data source import complete.')\n"
      ],
      "metadata": {
        "id": "8k_LQQqfiiME"
      },
      "cell_type": "code",
      "outputs": [],
      "execution_count": null
    },
    {
      "cell_type": "code",
      "source": [
        "# This Python 3 environment comes with many helpful analytics libraries installed\n",
        "# It is defined by the kaggle/python Docker image: https://github.com/kaggle/docker-python\n",
        "# For example, here's several helpful packages to load\n",
        "\n",
        "import numpy as np # linear algebra\n",
        "import pandas as pd # data processing, CSV file I/O (e.g. pd.read_csv)\n",
        "\n",
        "# Input data files are available in the read-only \"../input/\" directory\n",
        "# For example, running this (by clicking run or pressing Shift+Enter) will list all files under the input directory\n",
        "\n",
        "import os\n",
        "for dirname, _, filenames in os.walk('/kaggle/input'):\n",
        "    for filename in filenames:\n",
        "        print(os.path.join(dirname, filename))\n",
        "\n",
        "# You can write up to 20GB to the current directory (/kaggle/working/) that gets preserved as output when you create a version using \"Save & Run All\"\n",
        "# You can also write temporary files to /kaggle/temp/, but they won't be saved outside of the current session"
      ],
      "metadata": {
        "_uuid": "8f2839f25d086af736a60e9eeb907d3b93b6e0e5",
        "_cell_guid": "b1076dfc-b9ad-4769-8c92-a6c4dae69d19",
        "execution": {
          "iopub.status.busy": "2024-04-17T09:15:18.985259Z",
          "iopub.execute_input": "2024-04-17T09:15:18.985824Z",
          "iopub.status.idle": "2024-04-17T09:17:07.203246Z",
          "shell.execute_reply.started": "2024-04-17T09:15:18.985783Z",
          "shell.execute_reply": "2024-04-17T09:17:07.202009Z"
        },
        "trusted": true,
        "id": "JSCjhf1RiiMK"
      },
      "execution_count": null,
      "outputs": []
    },
    {
      "cell_type": "code",
      "source": [
        "pip install keras"
      ],
      "metadata": {
        "execution": {
          "iopub.status.busy": "2024-04-17T09:19:23.33139Z",
          "iopub.execute_input": "2024-04-17T09:19:23.332605Z",
          "iopub.status.idle": "2024-04-17T09:19:39.312884Z",
          "shell.execute_reply.started": "2024-04-17T09:19:23.332558Z",
          "shell.execute_reply": "2024-04-17T09:19:39.311567Z"
        },
        "trusted": true,
        "id": "8bM3OhDaiiML"
      },
      "execution_count": null,
      "outputs": []
    },
    {
      "cell_type": "code",
      "source": [
        "import tensorflow as tf\n",
        "from tensorflow.keras.preprocessing.image import ImageDataGenerator"
      ],
      "metadata": {
        "execution": {
          "iopub.status.busy": "2024-04-17T09:20:52.488915Z",
          "iopub.execute_input": "2024-04-17T09:20:52.489372Z",
          "iopub.status.idle": "2024-04-17T09:20:52.497892Z",
          "shell.execute_reply.started": "2024-04-17T09:20:52.489338Z",
          "shell.execute_reply": "2024-04-17T09:20:52.496397Z"
        },
        "trusted": true,
        "id": "EzLAe4SqiiMM"
      },
      "execution_count": null,
      "outputs": []
    },
    {
      "cell_type": "code",
      "source": [
        "train_datagen = ImageDataGenerator(rescale= 1./255,\n",
        "                                   shear_range=0.2,\n",
        "                                   zoom_range=0.2,\n",
        "                                   horizontal_flip=True)\n",
        "training_set=train_datagen.flow_from_directory(\"/kaggle/input/cat-and-dog/training_set/training_set\",\n",
        "                                               target_size=(64,64),\n",
        "                                               batch_size=32,\n",
        "                                               class_mode=\"binary\")"
      ],
      "metadata": {
        "execution": {
          "iopub.status.busy": "2024-04-17T09:21:37.470629Z",
          "iopub.execute_input": "2024-04-17T09:21:37.471048Z",
          "iopub.status.idle": "2024-04-17T09:21:38.934954Z",
          "shell.execute_reply.started": "2024-04-17T09:21:37.471016Z",
          "shell.execute_reply": "2024-04-17T09:21:38.934049Z"
        },
        "trusted": true,
        "id": "su0IlDcDiiMM"
      },
      "execution_count": null,
      "outputs": []
    },
    {
      "cell_type": "code",
      "source": [
        "test_datagen = ImageDataGenerator(rescale= 1./255)\n",
        "\n",
        "test_set=train_datagen.flow_from_directory(\"/kaggle/input/cat-and-dog/test_set/test_set\",\n",
        "                                               target_size=(64,64),\n",
        "                                               batch_size=32,\n",
        "                                               class_mode=\"binary\")"
      ],
      "metadata": {
        "execution": {
          "iopub.status.busy": "2024-04-17T09:22:44.990685Z",
          "iopub.execute_input": "2024-04-17T09:22:44.991302Z",
          "iopub.status.idle": "2024-04-17T09:22:45.072431Z",
          "shell.execute_reply.started": "2024-04-17T09:22:44.991273Z",
          "shell.execute_reply": "2024-04-17T09:22:45.0714Z"
        },
        "trusted": true,
        "id": "WYeRk4JCiiMM"
      },
      "execution_count": null,
      "outputs": []
    },
    {
      "cell_type": "code",
      "source": [
        "from tensorflow.keras.models import Sequential\n",
        "from tensorflow.keras.layers import Conv2D, MaxPooling2D, Flatten, Dense"
      ],
      "metadata": {
        "execution": {
          "iopub.status.busy": "2024-04-17T09:24:34.353946Z",
          "iopub.execute_input": "2024-04-17T09:24:34.354355Z",
          "iopub.status.idle": "2024-04-17T09:24:34.365987Z",
          "shell.execute_reply.started": "2024-04-17T09:24:34.354323Z",
          "shell.execute_reply": "2024-04-17T09:24:34.364822Z"
        },
        "trusted": true,
        "id": "rplyRriMiiMN"
      },
      "execution_count": null,
      "outputs": []
    },
    {
      "cell_type": "code",
      "source": [
        "model = Sequential()"
      ],
      "metadata": {
        "execution": {
          "iopub.status.busy": "2024-04-17T09:24:40.032209Z",
          "iopub.execute_input": "2024-04-17T09:24:40.032764Z",
          "iopub.status.idle": "2024-04-17T09:24:40.042746Z",
          "shell.execute_reply.started": "2024-04-17T09:24:40.032723Z",
          "shell.execute_reply": "2024-04-17T09:24:40.041788Z"
        },
        "trusted": true,
        "id": "QTAZyPXAiiMO"
      },
      "execution_count": null,
      "outputs": []
    },
    {
      "cell_type": "code",
      "source": [
        "model.add(Conv2D(filters=32, kernel_size=3, activation=\"relu\", input_shape=[64,64,3]))"
      ],
      "metadata": {
        "execution": {
          "iopub.status.busy": "2024-04-17T09:25:47.958766Z",
          "iopub.execute_input": "2024-04-17T09:25:47.959712Z",
          "iopub.status.idle": "2024-04-17T09:25:48.034402Z",
          "shell.execute_reply.started": "2024-04-17T09:25:47.959676Z",
          "shell.execute_reply": "2024-04-17T09:25:48.033232Z"
        },
        "trusted": true,
        "id": "xOaEuXVkiiMO"
      },
      "execution_count": null,
      "outputs": []
    },
    {
      "cell_type": "code",
      "source": [
        "model.add(MaxPooling2D(pool_size=2, strides=2))"
      ],
      "metadata": {
        "execution": {
          "iopub.status.busy": "2024-04-17T09:27:17.899347Z",
          "iopub.execute_input": "2024-04-17T09:27:17.900428Z",
          "iopub.status.idle": "2024-04-17T09:27:17.911437Z",
          "shell.execute_reply.started": "2024-04-17T09:27:17.900379Z",
          "shell.execute_reply": "2024-04-17T09:27:17.910617Z"
        },
        "trusted": true,
        "id": "dwkdvDK3iiMO"
      },
      "execution_count": null,
      "outputs": []
    },
    {
      "cell_type": "code",
      "source": [
        "model.add(Conv2D(filters=32, kernel_size=3, activation=\"relu\"))\n",
        "model.add(MaxPooling2D(pool_size=2, strides=2))"
      ],
      "metadata": {
        "execution": {
          "iopub.status.busy": "2024-04-17T09:28:44.933193Z",
          "iopub.execute_input": "2024-04-17T09:28:44.933585Z",
          "iopub.status.idle": "2024-04-17T09:28:44.960519Z",
          "shell.execute_reply.started": "2024-04-17T09:28:44.933557Z",
          "shell.execute_reply": "2024-04-17T09:28:44.959378Z"
        },
        "trusted": true,
        "id": "yBvkDyIoiiMO"
      },
      "execution_count": null,
      "outputs": []
    },
    {
      "cell_type": "code",
      "source": [
        "model.add(Flatten())"
      ],
      "metadata": {
        "execution": {
          "iopub.status.busy": "2024-04-17T09:29:47.237357Z",
          "iopub.execute_input": "2024-04-17T09:29:47.237807Z",
          "iopub.status.idle": "2024-04-17T09:29:47.252711Z",
          "shell.execute_reply.started": "2024-04-17T09:29:47.237776Z",
          "shell.execute_reply": "2024-04-17T09:29:47.251371Z"
        },
        "trusted": true,
        "id": "unxn93HeiiMP"
      },
      "execution_count": null,
      "outputs": []
    },
    {
      "cell_type": "code",
      "source": [
        "model.add(Dense(units=128, activation=\"relu\"))"
      ],
      "metadata": {
        "execution": {
          "iopub.status.busy": "2024-04-17T09:30:13.294216Z",
          "iopub.execute_input": "2024-04-17T09:30:13.295011Z",
          "iopub.status.idle": "2024-04-17T09:30:13.323947Z",
          "shell.execute_reply.started": "2024-04-17T09:30:13.294962Z",
          "shell.execute_reply": "2024-04-17T09:30:13.322363Z"
        },
        "trusted": true,
        "id": "Q6Qu9g5fiiMP"
      },
      "execution_count": null,
      "outputs": []
    },
    {
      "cell_type": "code",
      "source": [
        "model.add(Dense(units=1, activation=\"sigmoid\"))"
      ],
      "metadata": {
        "execution": {
          "iopub.status.busy": "2024-04-17T09:31:03.272306Z",
          "iopub.execute_input": "2024-04-17T09:31:03.273547Z",
          "iopub.status.idle": "2024-04-17T09:31:03.295171Z",
          "shell.execute_reply.started": "2024-04-17T09:31:03.273511Z",
          "shell.execute_reply": "2024-04-17T09:31:03.293771Z"
        },
        "trusted": true,
        "id": "XRDupjl0iiMP"
      },
      "execution_count": null,
      "outputs": []
    },
    {
      "cell_type": "code",
      "source": [
        "model.summary()"
      ],
      "metadata": {
        "execution": {
          "iopub.status.busy": "2024-04-17T09:31:33.854609Z",
          "iopub.execute_input": "2024-04-17T09:31:33.855007Z",
          "iopub.status.idle": "2024-04-17T09:31:33.885458Z",
          "shell.execute_reply.started": "2024-04-17T09:31:33.85498Z",
          "shell.execute_reply": "2024-04-17T09:31:33.884637Z"
        },
        "trusted": true,
        "id": "MrckArAJiiMP"
      },
      "execution_count": null,
      "outputs": []
    },
    {
      "cell_type": "code",
      "source": [
        "model.compile(optimizer=\"adam\", loss=\"binary_crossentropy\", metrics=[\"accuracy\"])"
      ],
      "metadata": {
        "execution": {
          "iopub.status.busy": "2024-04-17T09:32:53.284408Z",
          "iopub.execute_input": "2024-04-17T09:32:53.284874Z",
          "iopub.status.idle": "2024-04-17T09:32:53.302049Z",
          "shell.execute_reply.started": "2024-04-17T09:32:53.284839Z",
          "shell.execute_reply": "2024-04-17T09:32:53.300421Z"
        },
        "trusted": true,
        "id": "RvBMMU1HiiMP"
      },
      "execution_count": null,
      "outputs": []
    },
    {
      "cell_type": "code",
      "source": [
        "history = model.fit(x=training_set, validation_data = test_set, epochs=1)"
      ],
      "metadata": {
        "execution": {
          "iopub.status.busy": "2024-04-17T10:02:18.570144Z",
          "iopub.execute_input": "2024-04-17T10:02:18.570601Z",
          "iopub.status.idle": "2024-04-17T10:03:40.829537Z",
          "shell.execute_reply.started": "2024-04-17T10:02:18.570569Z",
          "shell.execute_reply": "2024-04-17T10:03:40.828008Z"
        },
        "trusted": true,
        "id": "CoFBK8oriiMP"
      },
      "execution_count": null,
      "outputs": []
    },
    {
      "cell_type": "code",
      "source": [
        "import numpy as np\n",
        "from keras.preprocessing import image\n",
        "test_image = image.load_img(\"/kaggle/input/dogggggggg/dog.jpg\", target_size=(64,64))\n",
        "test_image = image.img_to_array(test_image)\n",
        "test_image = np.expand_dims(test_image, axis=0)\n",
        "result = model.predict(test_image)\n",
        "training_set.class_indices\n",
        "if result[0][0]==1:\n",
        "    prediction = \"dog\"\n",
        "else:\n",
        "    prediction = \"cat\"\n",
        "print(\"Prediction:\", prediction)"
      ],
      "metadata": {
        "execution": {
          "iopub.status.busy": "2024-04-17T10:03:46.878292Z",
          "iopub.execute_input": "2024-04-17T10:03:46.878887Z",
          "iopub.status.idle": "2024-04-17T10:03:47.028173Z",
          "shell.execute_reply.started": "2024-04-17T10:03:46.878853Z",
          "shell.execute_reply": "2024-04-17T10:03:47.027031Z"
        },
        "trusted": true,
        "id": "RmcZhDDliiMP"
      },
      "execution_count": null,
      "outputs": []
    },
    {
      "cell_type": "code",
      "source": [
        "y_pred = model.predict(test_set)\n",
        "y_pred = (y_pred > 0.5)"
      ],
      "metadata": {
        "execution": {
          "iopub.status.busy": "2024-04-17T10:05:16.864658Z",
          "iopub.execute_input": "2024-04-17T10:05:16.866061Z",
          "iopub.status.idle": "2024-04-17T10:05:27.366055Z",
          "shell.execute_reply.started": "2024-04-17T10:05:16.866021Z",
          "shell.execute_reply": "2024-04-17T10:05:27.364757Z"
        },
        "trusted": true,
        "id": "SVnYN23ViiMP"
      },
      "execution_count": null,
      "outputs": []
    },
    {
      "cell_type": "code",
      "source": [
        "cm = confusion_matrix(test_set.classes, y_pred)\n",
        "labels = ['cat', 'dog']\n",
        "\n",
        "disp = ConfusionMatrixDisplay(confusion_matrix=cm, display_labels=labels)\n",
        "disp.plot()\n",
        "plt.show()"
      ],
      "metadata": {
        "execution": {
          "iopub.status.busy": "2024-04-17T10:05:42.14131Z",
          "iopub.execute_input": "2024-04-17T10:05:42.141752Z",
          "iopub.status.idle": "2024-04-17T10:05:42.448947Z",
          "shell.execute_reply.started": "2024-04-17T10:05:42.141722Z",
          "shell.execute_reply": "2024-04-17T10:05:42.447646Z"
        },
        "trusted": true,
        "id": "av45VGueiiMQ"
      },
      "execution_count": null,
      "outputs": []
    },
    {
      "cell_type": "code",
      "source": [],
      "metadata": {
        "id": "57tP3T5ZiiMQ"
      },
      "execution_count": null,
      "outputs": []
    }
  ]
}