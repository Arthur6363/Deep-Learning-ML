{
  "nbformat": 4,
  "nbformat_minor": 0,
  "metadata": {
    "colab": {
      "provenance": [],
      "authorship_tag": "ABX9TyOLdOh6g8vn+M7iRVZUE37V",
      "include_colab_link": true
    },
    "kernelspec": {
      "name": "python3",
      "display_name": "Python 3"
    },
    "language_info": {
      "name": "python"
    }
  },
  "cells": [
    {
      "cell_type": "markdown",
      "metadata": {
        "id": "view-in-github",
        "colab_type": "text"
      },
      "source": [
        "<a href=\"https://colab.research.google.com/github/Arthur6363/Deep-Learning-ML/blob/main/Keras_ile_MNIST_Classification.ipynb\" target=\"_parent\"><img src=\"https://colab.research.google.com/assets/colab-badge.svg\" alt=\"Open In Colab\"/></a>"
      ]
    },
    {
      "cell_type": "code",
      "execution_count": 1,
      "metadata": {
        "id": "FVW1ROmx4EVq"
      },
      "outputs": [],
      "source": [
        "from keras.datasets import mnist"
      ]
    },
    {
      "cell_type": "code",
      "source": [
        "(train_images, train_labels)= mnist.load_data()[0]"
      ],
      "metadata": {
        "colab": {
          "base_uri": "https://localhost:8080/"
        },
        "id": "Qqctdokc4Qcb",
        "outputId": "dcf9bd63-6a55-4ea4-cba0-177b1b939649"
      },
      "execution_count": 2,
      "outputs": [
        {
          "output_type": "stream",
          "name": "stdout",
          "text": [
            "Downloading data from https://storage.googleapis.com/tensorflow/tf-keras-datasets/mnist.npz\n",
            "11490434/11490434 [==============================] - 0s 0us/step\n"
          ]
        }
      ]
    },
    {
      "cell_type": "code",
      "source": [
        "(test_images, test_labels)=mnist.load_data()[0]"
      ],
      "metadata": {
        "id": "F3JvywhK4Ygf"
      },
      "execution_count": 4,
      "outputs": []
    },
    {
      "cell_type": "code",
      "source": [
        "train_images.shape"
      ],
      "metadata": {
        "colab": {
          "base_uri": "https://localhost:8080/"
        },
        "id": "v389n4PJ4f8g",
        "outputId": "96a50df1-3878-4e5b-b930-a589414e1e79"
      },
      "execution_count": 5,
      "outputs": [
        {
          "output_type": "execute_result",
          "data": {
            "text/plain": [
              "(60000, 28, 28)"
            ]
          },
          "metadata": {},
          "execution_count": 5
        }
      ]
    },
    {
      "cell_type": "code",
      "source": [
        "import matplotlib.pyplot as plt\n",
        "plt.imshow(train_images[70], cmap=\"gray_r\")\n",
        "plt.show()"
      ],
      "metadata": {
        "colab": {
          "base_uri": "https://localhost:8080/",
          "height": 430
        },
        "id": "bU4thES54mLR",
        "outputId": "207bb2f1-6a40-4d22-88ee-efb5ad9978ed"
      },
      "execution_count": 6,
      "outputs": [
        {
          "output_type": "display_data",
          "data": {
            "text/plain": [
              "<Figure size 640x480 with 1 Axes>"
            ],
            "image/png": "[encoded data removed]"
          },
          "metadata": {}
        }
      ]
    },
    {
      "cell_type": "code",
      "source": [
        "train_images = train_images.reshape(train_images.shape[0],28,28,1)"
      ],
      "metadata": {
        "id": "miZEbJ2P40F-"
      },
      "execution_count": 7,
      "outputs": []
    },
    {
      "cell_type": "code",
      "source": [
        "test_images = test_images.reshape(test_images.shape[0],28,28,1)"
      ],
      "metadata": {
        "id": "4zMIC9Ce5DQJ"
      },
      "execution_count": 8,
      "outputs": []
    },
    {
      "cell_type": "code",
      "source": [
        "train_images.shape"
      ],
      "metadata": {
        "colab": {
          "base_uri": "https://localhost:8080/"
        },
        "id": "22BkzlK-5HFW",
        "outputId": "6d439b92-0bb9-4ecf-e3df-0a2451fed5a6"
      },
      "execution_count": 9,
      "outputs": [
        {
          "output_type": "execute_result",
          "data": {
            "text/plain": [
              "(60000, 28, 28, 1)"
            ]
          },
          "metadata": {},
          "execution_count": 9
        }
      ]
    },
    {
      "cell_type": "code",
      "source": [
        "train_images = train_images.astype(\"float32\")\n",
        "test_images = test_images.astype(\"float32\")"
      ],
      "metadata": {
        "id": "257SgwLv5JcD"
      },
      "execution_count": 10,
      "outputs": []
    },
    {
      "cell_type": "code",
      "source": [
        "train_images = train_images/255\n",
        "test_images = test_images/255"
      ],
      "metadata": {
        "id": "4qu1qyqo5TVF"
      },
      "execution_count": 11,
      "outputs": []
    },
    {
      "cell_type": "code",
      "source": [
        "from keras.models import Sequential\n",
        "from keras.layers import Conv2D, Dense, Dropout,Flatten,MaxPooling2D\n",
        "model = Sequential()\n",
        "input_shape=(28,28,1)\n",
        "model.add(Conv2D(28,kernel_size=(3,3), input_shape=input_shape))\n",
        "model.add(MaxPooling2D(pool_size=(2,2)))\n",
        "model.add(Flatten())\n",
        "\n",
        "model.add(Dense(128, activation=\"relu\"))\n",
        "model.add(Dropout(0,2))\n",
        "model.add(Dense(10, activation=\"softmax\"))"
      ],
      "metadata": {
        "id": "2xgyGB3B5bxh"
      },
      "execution_count": 13,
      "outputs": []
    },
    {
      "cell_type": "code",
      "source": [
        "model.compile(optimizer = \"adam\", loss = \"sparse_categorical_crossentropy\", metrics = [\"accuracy\"])\n",
        "model.summary()"
      ],
      "metadata": {
        "colab": {
          "base_uri": "https://localhost:8080/"
        },
        "id": "khmBK4Pm6l3G",
        "outputId": "578a483f-3d70-4caf-f010-92d08481328e"
      },
      "execution_count": 17,
      "outputs": [
        {
          "output_type": "stream",
          "name": "stdout",
          "text": [
            "Model: \"sequential_1\"\n",
            "_________________________________________________________________\n",
            " Layer (type)                Output Shape              Param #   \n",
            "=================================================================\n",
            " conv2d_1 (Conv2D)           (None, 26, 26, 28)        280       \n",
            "                                                                 \n",
            " max_pooling2d (MaxPooling2  (None, 13, 13, 28)        0         \n",
            " D)                                                              \n",
            "                                                                 \n",
            " flatten (Flatten)           (None, 4732)              0         \n",
            "                                                                 \n",
            " dense (Dense)               (None, 128)               605824    \n",
            "                                                                 \n",
            " dropout (Dropout)           (None, 128)               0         \n",
            "                                                                 \n",
            " dense_1 (Dense)             (None, 10)                1290      \n",
            "                                                                 \n",
            "=================================================================\n",
            "Total params: 607394 (2.32 MB)\n",
            "Trainable params: 607394 (2.32 MB)\n",
            "Non-trainable params: 0 (0.00 Byte)\n",
            "_________________________________________________________________\n"
          ]
        }
      ]
    },
    {
      "cell_type": "code",
      "source": [
        "history = model.fit(x=train_images, y=train_labels, epochs=10)"
      ],
      "metadata": {
        "colab": {
          "base_uri": "https://localhost:8080/"
        },
        "id": "rkfvvuEr62iw",
        "outputId": "a0ff017c-ebdb-4e5e-f5a3-2b83b3fd0d19"
      },
      "execution_count": 18,
      "outputs": [
        {
          "output_type": "stream",
          "name": "stdout",
          "text": [
            "Epoch 1/10\n",
            "1875/1875 [==============================] - 60s 31ms/step - loss: 0.1807 - accuracy: 0.9460\n",
            "Epoch 2/10\n",
            "1875/1875 [==============================] - 47s 25ms/step - loss: 0.0640 - accuracy: 0.9808\n",
            "Epoch 3/10\n",
            "1875/1875 [==============================] - 37s 20ms/step - loss: 0.0391 - accuracy: 0.9879\n",
            "Epoch 4/10\n",
            "1875/1875 [==============================] - 36s 19ms/step - loss: 0.0252 - accuracy: 0.9920\n",
            "Epoch 5/10\n",
            "1875/1875 [==============================] - 37s 19ms/step - loss: 0.0185 - accuracy: 0.9939\n",
            "Epoch 6/10\n",
            "1875/1875 [==============================] - 37s 20ms/step - loss: 0.0131 - accuracy: 0.9956\n",
            "Epoch 7/10\n",
            "1875/1875 [==============================] - 42s 22ms/step - loss: 0.0107 - accuracy: 0.9964\n",
            "Epoch 8/10\n",
            "1875/1875 [==============================] - 37s 20ms/step - loss: 0.0084 - accuracy: 0.9972\n",
            "Epoch 9/10\n",
            "1875/1875 [==============================] - 37s 20ms/step - loss: 0.0096 - accuracy: 0.9969\n",
            "Epoch 10/10\n",
            "1875/1875 [==============================] - 36s 19ms/step - loss: 0.0062 - accuracy: 0.9980\n"
          ]
        }
      ]
    },
    {
      "cell_type": "code",
      "source": [
        "test_loss, test_accuracy = model.evaluate(test_images,test_labels)\n",
        "print(\"test_loss=\", test_loss)\n",
        "print(\"test_accuracy=\", test_accuracy)"
      ],
      "metadata": {
        "colab": {
          "base_uri": "https://localhost:8080/"
        },
        "id": "_9W4NU8R7PcC",
        "outputId": "72f9b540-2811-411b-e606-0b1611e9c676"
      },
      "execution_count": 21,
      "outputs": [
        {
          "output_type": "stream",
          "name": "stdout",
          "text": [
            "1875/1875 [==============================] - 13s 7ms/step - loss: 0.0048 - accuracy: 0.9983\n",
            "test_loss= 0.00484445970505476\n",
            "test_accuracy= 0.9982500076293945\n"
          ]
        }
      ]
    },
    {
      "cell_type": "code",
      "source": [
        "hist_dict=history.history"
      ],
      "metadata": {
        "id": "E_hdCet97hZi"
      },
      "execution_count": 23,
      "outputs": []
    },
    {
      "cell_type": "code",
      "source": [
        "hist_dict.keys()"
      ],
      "metadata": {
        "colab": {
          "base_uri": "https://localhost:8080/"
        },
        "id": "KKE4rouX823b",
        "outputId": "a1e44d74-2ea3-4ac9-8a13-c7f3c74f571d"
      },
      "execution_count": 24,
      "outputs": [
        {
          "output_type": "execute_result",
          "data": {
            "text/plain": [
              "dict_keys(['loss', 'accuracy'])"
            ]
          },
          "metadata": {},
          "execution_count": 24
        }
      ]
    },
    {
      "cell_type": "code",
      "source": [
        "plt.figure(figsize=(3,3))\n",
        "epochs = range(1,11)\n",
        "loss =  hist_dict[\"loss\"]\n",
        "plt.plot(epochs, loss)\n",
        "plt.show()"
      ],
      "metadata": {
        "colab": {
          "base_uri": "https://localhost:8080/",
          "height": 291
        },
        "id": "9grODWenAgEF",
        "outputId": "6a6eb4c3-c76a-47b5-8509-2e51f7c14b72"
      },
      "execution_count": 30,
      "outputs": [
        {
          "output_type": "display_data",
          "data": {
            "text/plain": [
              "<Figure size 300x300 with 1 Axes>"
            ],
            "image/png": "[encoded data removed]"
          },
          "metadata": {}
        }
      ]
    },
    {
      "cell_type": "code",
      "source": [
        "plt.figure(figsize=(3,3))\n",
        "accuracy = hist_dict[\"accuracy\"]\n",
        "plt.plot(epochs, accuracy)\n",
        "plt.show()"
      ],
      "metadata": {
        "colab": {
          "base_uri": "https://localhost:8080/",
          "height": 295
        },
        "id": "5eM9TwqOA1Ry",
        "outputId": "5fc62f9b-6cad-46ed-fc43-5859435d00b6"
      },
      "execution_count": 31,
      "outputs": [
        {
          "output_type": "display_data",
          "data": {
            "text/plain": [
              "<Figure size 300x300 with 1 Axes>"
            ],
            "image/png": "[encoded data removed]"
          },
          "metadata": {}
        }
      ]
    },
    {
      "cell_type": "code",
      "source": [
        "model.save(\"model.h5\")"
      ],
      "metadata": {
        "colab": {
          "base_uri": "https://localhost:8080/"
        },
        "id": "WvfnPiXUBCqw",
        "outputId": "d12c6eb8-0546-439f-9c46-29b1be9d1bd3"
      },
      "execution_count": 32,
      "outputs": [
        {
          "output_type": "stream",
          "name": "stderr",
          "text": [
            "/usr/local/lib/python3.10/dist-packages/keras/src/engine/training.py:3103: UserWarning: You are saving your model as an HDF5 file via `model.save()`. This file format is considered legacy. We recommend using instead the native Keras format, e.g. `model.save('my_model.keras')`.\n",
            "  saving_api.save_model(\n"
          ]
        }
      ]
    },
    {
      "cell_type": "code",
      "source": [
        "from keras.models import load_model\n",
        "model = load_model(\"model.h5\")"
      ],
      "metadata": {
        "id": "-ftj2Er3BaSi"
      },
      "execution_count": 33,
      "outputs": []
    },
    {
      "cell_type": "code",
      "source": [
        "import random\n",
        "i = random.randint(1,100)\n",
        "prediction = model.predict(test_images[i].reshape(1,28,28,1))"
      ],
      "metadata": {
        "colab": {
          "base_uri": "https://localhost:8080/"
        },
        "id": "Pdd0q0CtCZ4T",
        "outputId": "b4298909-8ecc-4a11-e42f-db7c17db0c5b"
      },
      "execution_count": 34,
      "outputs": [
        {
          "output_type": "stream",
          "name": "stdout",
          "text": [
            "1/1 [==============================] - 0s 427ms/step\n"
          ]
        }
      ]
    },
    {
      "cell_type": "code",
      "source": [
        "print(prediction)"
      ],
      "metadata": {
        "colab": {
          "base_uri": "https://localhost:8080/"
        },
        "id": "LKdgDva1Cfus",
        "outputId": "8e4412e0-a24b-427a-efba-0d354ae339ee"
      },
      "execution_count": 36,
      "outputs": [
        {
          "output_type": "stream",
          "name": "stdout",
          "text": [
            "[[1.0000000e+00 9.0412618e-20 2.5442581e-09 6.7145530e-16 1.3342702e-13\n",
            "  7.5533824e-15 2.3406826e-12 3.8624239e-16 3.4658276e-13 1.4390919e-14]]\n"
          ]
        }
      ]
    },
    {
      "cell_type": "code",
      "source": [
        "plt.figure(figsize=(3,3))\n",
        "plt.imshow(test_images[i].reshape(28,28), cmap=\"gray_r\")\n",
        "plt.show()"
      ],
      "metadata": {
        "colab": {
          "base_uri": "https://localhost:8080/",
          "height": 293
        },
        "id": "H0niEqYjCnsF",
        "outputId": "112a240a-e5c3-4e76-eca2-6875b2647626"
      },
      "execution_count": 38,
      "outputs": [
        {
          "output_type": "display_data",
          "data": {
            "text/plain": [
              "<Figure size 300x300 with 1 Axes>"
            ],
            "image/png": "[encoded data removed]"
          },
          "metadata": {}
        }
      ]
    },
    {
      "cell_type": "code",
      "source": [
        "i = random.randint(1,100)\n",
        "prediction = model.predict(test_images[i].reshape(1,28,28,1))\n",
        "print(prediction.argmax())\n",
        "\n",
        "plt.figure(figsize=(3,3))\n",
        "plt.imshow(test_images[i].reshape(28,28), cmap=\"gray_r\")\n",
        "plt.show()"
      ],
      "metadata": {
        "colab": {
          "base_uri": "https://localhost:8080/",
          "height": 328
        },
        "id": "rD8o8JNdC2LR",
        "outputId": "e54a2b99-86f5-4597-9ce8-e4cd03a51166"
      },
      "execution_count": 43,
      "outputs": [
        {
          "output_type": "stream",
          "name": "stdout",
          "text": [
            "1/1 [==============================] - 0s 23ms/step\n",
            "4\n"
          ]
        },
        {
          "output_type": "display_data",
          "data": {
            "text/plain": [
              "<Figure size 300x300 with 1 Axes>"
            ],
            "image/png": "[encoded data removed]"
          },
          "metadata": {}
        }
      ]
    },
    {
      "cell_type": "code",
      "source": [
        "i = random.randint(1,100)\n",
        "prediction = model.predict(test_images[i].reshape(1,28,28,1))\n",
        "print(prediction.argmax())\n",
        "\n",
        "plt.figure(figsize=(3,3))\n",
        "plt.imshow(test_images[i].reshape(28,28), cmap=\"gray_r\")\n",
        "plt.show()"
      ],
      "metadata": {
        "colab": {
          "base_uri": "https://localhost:8080/",
          "height": 328
        },
        "id": "ItI7QBxTDVJT",
        "outputId": "0f4c0671-4bc7-4648-e198-b7279f5cb685"
      },
      "execution_count": 42,
      "outputs": [
        {
          "output_type": "stream",
          "name": "stdout",
          "text": [
            "1/1 [==============================] - 0s 74ms/step\n",
            "2\n"
          ]
        },
        {
          "output_type": "display_data",
          "data": {
            "text/plain": [
              "<Figure size 300x300 with 1 Axes>"
            ],
            "image/png": "[encoded data removed]"
          },
          "metadata": {}
        }
      ]
    },
    {
      "cell_type": "code",
      "source": [],
      "metadata": {
        "id": "VkzadaskDVbU"
      },
      "execution_count": null,
      "outputs": []
    }
  ]
}