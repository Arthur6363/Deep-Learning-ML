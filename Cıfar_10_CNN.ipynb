{
  "metadata": {
    "kernelspec": {
      "language": "python",
      "display_name": "Python 3",
      "name": "python3"
    },
    "language_info": {
      "name": "python",
      "version": "3.10.13",
      "mimetype": "text/x-python",
      "codemirror_mode": {
        "name": "ipython",
        "version": 3
      },
      "pygments_lexer": "ipython3",
      "nbconvert_exporter": "python",
      "file_extension": ".py"
    },
    "kaggle": {
      "accelerator": "none",
      "dataSources": [
        {
          "sourceId": 3649,
          "databundleVersionId": 46718,
          "sourceType": "competition"
        }
      ],
      "dockerImageVersionId": 30684,
      "isInternetEnabled": true,
      "language": "python",
      "sourceType": "notebook",
      "isGpuEnabled": false
    },
    "colab": {
      "name": "Cıfar-10_CNN",
      "provenance": [],
      "include_colab_link": true
    }
  },
  "nbformat_minor": 0,
  "nbformat": 4,
  "cells": [
    {
      "cell_type": "markdown",
      "metadata": {
        "id": "view-in-github",
        "colab_type": "text"
      },
      "source": [
        "<a href=\"https://colab.research.google.com/github/Arthur6363/Deep-Learning-ML/blob/main/C%C4%B1far_10_CNN.ipynb\" target=\"_parent\"><img src=\"https://colab.research.google.com/assets/colab-badge.svg\" alt=\"Open In Colab\"/></a>"
      ]
    },
    {
      "source": [
        "\n",
        "# IMPORTANT: RUN THIS CELL IN ORDER TO IMPORT YOUR KAGGLE DATA SOURCES\n",
        "# TO THE CORRECT LOCATION (/kaggle/input) IN YOUR NOTEBOOK,\n",
        "# THEN FEEL FREE TO DELETE THIS CELL.\n",
        "# NOTE: THIS NOTEBOOK ENVIRONMENT DIFFERS FROM KAGGLE'S PYTHON\n",
        "# ENVIRONMENT SO THERE MAY BE MISSING LIBRARIES USED BY YOUR\n",
        "# NOTEBOOK.\n",
        "\n",
        "import os\n",
        "import sys\n",
        "from tempfile import NamedTemporaryFile\n",
        "from urllib.request import urlopen\n",
        "from urllib.parse import unquote, urlparse\n",
        "from urllib.error import HTTPError\n",
        "from zipfile import ZipFile\n",
        "import tarfile\n",
        "import shutil\n",
        "\n",
        "CHUNK_SIZE = 40960\n",
        "DATA_SOURCE_MAPPING = 'cifar-10:https%3A%2F%2Fstorage.googleapis.com%2Fkaggle-competitions-data%2Fkaggle-v2%2F3649%2F46718%2Fbundle%2Farchive.zip%3FX-Goog-Algorithm%3DGOOG4-RSA-SHA256%26X-Goog-Credential%3Dgcp-kaggle-com%2540kaggle-161607.iam.gserviceaccount.com%252F20240418%252Fauto%252Fstorage%252Fgoog4_request%26X-Goog-Date%3D20240418T100012Z%26X-Goog-Expires%3D259200%26X-Goog-SignedHeaders%3Dhost%26X-Goog-Signature%3D950577e8725d8a127011606a9fefb7f46096a34630946dc8c2f83d4bce96a012de6adadb7eabca28b9c10f619465cec1542138115746db25f27bfeaf3f64c7a080792a2fba9f17539f55abe51afd88a0ddaacad745aae510e46676a780839c835856202e2db9ed831f025548e73740caa6e5632fed60174b7fd46fda7977613bc0eb071ed84a18ea57e6672b88fcfa143e6a52ae30fab4badad2dba4828de3435585884eb1dcaee244527e37394f5b44e8e6a4a5b0d76afc6cfd1e88ea194ffe09cabab47dfac706f2830297b7baaf4dfabcf348cf94b4a3048897c58533fe28b35f316c5153678bd34bca469580976c3a4602ac34993b39751918372950632f'\n",
        "\n",
        "KAGGLE_INPUT_PATH='/kaggle/input'\n",
        "KAGGLE_WORKING_PATH='/kaggle/working'\n",
        "KAGGLE_SYMLINK='kaggle'\n",
        "\n",
        "!umount /kaggle/input/ 2> /dev/null\n",
        "shutil.rmtree('/kaggle/input', ignore_errors=True)\n",
        "os.makedirs(KAGGLE_INPUT_PATH, 0o777, exist_ok=True)\n",
        "os.makedirs(KAGGLE_WORKING_PATH, 0o777, exist_ok=True)\n",
        "\n",
        "try:\n",
        "  os.symlink(KAGGLE_INPUT_PATH, os.path.join(\"..\", 'input'), target_is_directory=True)\n",
        "except FileExistsError:\n",
        "  pass\n",
        "try:\n",
        "  os.symlink(KAGGLE_WORKING_PATH, os.path.join(\"..\", 'working'), target_is_directory=True)\n",
        "except FileExistsError:\n",
        "  pass\n",
        "\n",
        "for data_source_mapping in DATA_SOURCE_MAPPING.split(','):\n",
        "    directory, download_url_encoded = data_source_mapping.split(':')\n",
        "    download_url = unquote(download_url_encoded)\n",
        "    filename = urlparse(download_url).path\n",
        "    destination_path = os.path.join(KAGGLE_INPUT_PATH, directory)\n",
        "    try:\n",
        "        with urlopen(download_url) as fileres, NamedTemporaryFile() as tfile:\n",
        "            total_length = fileres.headers['content-length']\n",
        "            print(f'Downloading {directory}, {total_length} bytes compressed')\n",
        "            dl = 0\n",
        "            data = fileres.read(CHUNK_SIZE)\n",
        "            while len(data) > 0:\n",
        "                dl += len(data)\n",
        "                tfile.write(data)\n",
        "                done = int(50 * dl / int(total_length))\n",
        "                sys.stdout.write(f\"\\r[{'=' * done}{' ' * (50-done)}] {dl} bytes downloaded\")\n",
        "                sys.stdout.flush()\n",
        "                data = fileres.read(CHUNK_SIZE)\n",
        "            if filename.endswith('.zip'):\n",
        "              with ZipFile(tfile) as zfile:\n",
        "                zfile.extractall(destination_path)\n",
        "            else:\n",
        "              with tarfile.open(tfile.name) as tarfile:\n",
        "                tarfile.extractall(destination_path)\n",
        "            print(f'\\nDownloaded and uncompressed: {directory}')\n",
        "    except HTTPError as e:\n",
        "        print(f'Failed to load (likely expired) {download_url} to path {destination_path}')\n",
        "        continue\n",
        "    except OSError as e:\n",
        "        print(f'Failed to load {download_url} to path {destination_path}')\n",
        "        continue\n",
        "\n",
        "print('Data source import complete.')\n"
      ],
      "metadata": {
        "id": "8fSkMp9AplP3"
      },
      "cell_type": "code",
      "outputs": [],
      "execution_count": null
    },
    {
      "cell_type": "code",
      "source": [
        "# This Python 3 environment comes with many helpful analytics libraries installed\n",
        "# It is defined by the kaggle/python Docker image: https://github.com/kaggle/docker-python\n",
        "# For example, here's several helpful packages to load\n",
        "\n",
        "import numpy as np # linear algebra\n",
        "import pandas as pd # data processing, CSV file I/O (e.g. pd.read_csv)\n",
        "\n",
        "# Input data files are available in the read-only \"../input/\" directory\n",
        "# For example, running this (by clicking run or pressing Shift+Enter) will list all files under the input directory\n",
        "\n",
        "import os\n",
        "for dirname, _, filenames in os.walk('/kaggle/input'):\n",
        "    for filename in filenames:\n",
        "        print(os.path.join(dirname, filename))\n",
        "\n",
        "# You can write up to 20GB to the current directory (/kaggle/working/) that gets preserved as output when you create a version using \"Save & Run All\"\n",
        "# You can also write temporary files to /kaggle/temp/, but they won't be saved outside of the current session"
      ],
      "metadata": {
        "_uuid": "8f2839f25d086af736a60e9eeb907d3b93b6e0e5",
        "_cell_guid": "b1076dfc-b9ad-4769-8c92-a6c4dae69d19",
        "execution": {
          "iopub.status.busy": "2024-04-18T09:20:48.318247Z",
          "iopub.execute_input": "2024-04-18T09:20:48.3189Z",
          "iopub.status.idle": "2024-04-18T09:20:49.434501Z",
          "shell.execute_reply.started": "2024-04-18T09:20:48.318853Z",
          "shell.execute_reply": "2024-04-18T09:20:49.43338Z"
        },
        "trusted": true,
        "id": "nE_ZoW1uplP9",
        "outputId": "c3fe12dd-b11f-4ec1-9a95-83193618eaf8"
      },
      "execution_count": null,
      "outputs": [
        {
          "name": "stdout",
          "text": "/kaggle/input/cifar-10/trainLabels.csv\n/kaggle/input/cifar-10/sampleSubmission.csv\n/kaggle/input/cifar-10/test.7z\n/kaggle/input/cifar-10/train.7z\n",
          "output_type": "stream"
        }
      ]
    },
    {
      "cell_type": "code",
      "source": [
        "import tensorflow as tf\n",
        "from tensorflow.keras import layers, models, datasets\n",
        "from keras.models import Sequential\n",
        "from keras.layers import Conv2D, MaxPooling2D, Flatten, Dense\n",
        "import matplotlib.pyplot as plt\n"
      ],
      "metadata": {
        "execution": {
          "iopub.status.busy": "2024-04-18T09:24:32.359531Z",
          "iopub.execute_input": "2024-04-18T09:24:32.359974Z",
          "iopub.status.idle": "2024-04-18T09:24:32.365652Z",
          "shell.execute_reply.started": "2024-04-18T09:24:32.359936Z",
          "shell.execute_reply": "2024-04-18T09:24:32.364447Z"
        },
        "trusted": true,
        "id": "PnIMMi5splP-"
      },
      "execution_count": null,
      "outputs": []
    },
    {
      "cell_type": "code",
      "source": [
        "(x_train, y_train), (x_test,y_test), = datasets.cifar10.load_data()"
      ],
      "metadata": {
        "execution": {
          "iopub.status.busy": "2024-04-18T09:26:13.809629Z",
          "iopub.execute_input": "2024-04-18T09:26:13.810068Z",
          "iopub.status.idle": "2024-04-18T09:26:14.751068Z",
          "shell.execute_reply.started": "2024-04-18T09:26:13.810036Z",
          "shell.execute_reply": "2024-04-18T09:26:14.749622Z"
        },
        "trusted": true,
        "id": "VPyRJzD6plP_"
      },
      "execution_count": null,
      "outputs": []
    },
    {
      "cell_type": "code",
      "source": [
        "x_train.shape"
      ],
      "metadata": {
        "execution": {
          "iopub.status.busy": "2024-04-18T09:26:39.064317Z",
          "iopub.execute_input": "2024-04-18T09:26:39.064959Z",
          "iopub.status.idle": "2024-04-18T09:26:39.072689Z",
          "shell.execute_reply.started": "2024-04-18T09:26:39.064926Z",
          "shell.execute_reply": "2024-04-18T09:26:39.071559Z"
        },
        "trusted": true,
        "id": "_BRNtIYAplP_",
        "outputId": "3239412e-c951-46a7-e72a-35e596aefd69"
      },
      "execution_count": null,
      "outputs": [
        {
          "execution_count": 9,
          "output_type": "execute_result",
          "data": {
            "text/plain": "(50000, 32, 32, 3)"
          },
          "metadata": {}
        }
      ]
    },
    {
      "cell_type": "code",
      "source": [
        "y_train[:3]"
      ],
      "metadata": {
        "execution": {
          "iopub.status.busy": "2024-04-18T09:27:19.882867Z",
          "iopub.execute_input": "2024-04-18T09:27:19.883322Z",
          "iopub.status.idle": "2024-04-18T09:27:19.891598Z",
          "shell.execute_reply.started": "2024-04-18T09:27:19.883286Z",
          "shell.execute_reply": "2024-04-18T09:27:19.890279Z"
        },
        "trusted": true,
        "id": "1ccPV19lplQA",
        "outputId": "cdca225b-7d4c-4117-b9d5-1c47fe5fcab8"
      },
      "execution_count": null,
      "outputs": [
        {
          "execution_count": 10,
          "output_type": "execute_result",
          "data": {
            "text/plain": "array([[6],\n       [9],\n       [9]], dtype=uint8)"
          },
          "metadata": {}
        }
      ]
    },
    {
      "cell_type": "code",
      "source": [
        "y_test=y_test.reshape(-1,)\n",
        "y_test"
      ],
      "metadata": {
        "execution": {
          "iopub.status.busy": "2024-04-18T09:28:22.148901Z",
          "iopub.execute_input": "2024-04-18T09:28:22.149916Z",
          "iopub.status.idle": "2024-04-18T09:28:22.159424Z",
          "shell.execute_reply.started": "2024-04-18T09:28:22.149874Z",
          "shell.execute_reply": "2024-04-18T09:28:22.158326Z"
        },
        "trusted": true,
        "id": "-UOYOafcplQA",
        "outputId": "58e3ade8-51e8-42d2-fc1e-0a15fb74988d"
      },
      "execution_count": null,
      "outputs": [
        {
          "execution_count": 11,
          "output_type": "execute_result",
          "data": {
            "text/plain": "array([3, 8, 8, ..., 5, 1, 7], dtype=uint8)"
          },
          "metadata": {}
        }
      ]
    },
    {
      "cell_type": "code",
      "source": [
        "siniflar=[\"uçak\",\"otomobil\",\"kuş\",\"kedi\",\"geyik\",\"köpek\",\"kurbağa\",\"at\",\"gemi\",\"kamyon\"]"
      ],
      "metadata": {
        "execution": {
          "iopub.status.busy": "2024-04-18T09:29:38.912415Z",
          "iopub.execute_input": "2024-04-18T09:29:38.912844Z",
          "iopub.status.idle": "2024-04-18T09:29:38.918864Z",
          "shell.execute_reply.started": "2024-04-18T09:29:38.912812Z",
          "shell.execute_reply": "2024-04-18T09:29:38.917629Z"
        },
        "trusted": true,
        "id": "aR-32lcfplQB"
      },
      "execution_count": null,
      "outputs": []
    },
    {
      "cell_type": "code",
      "source": [
        "def ornek(x,y,index):\n",
        "    plt.figure(figsize=(15,2))\n",
        "    plt.imshow(x[index])\n",
        "    plt.xlabel(siniflar[y[index]])\n",
        "ornek(x_test,y_test,63)"
      ],
      "metadata": {
        "execution": {
          "iopub.status.busy": "2024-04-18T09:32:15.040631Z",
          "iopub.execute_input": "2024-04-18T09:32:15.041436Z",
          "iopub.status.idle": "2024-04-18T09:32:15.204424Z",
          "shell.execute_reply.started": "2024-04-18T09:32:15.041393Z",
          "shell.execute_reply": "2024-04-18T09:32:15.202908Z"
        },
        "trusted": true,
        "id": "rIb1DKvuplQB",
        "outputId": "741a86d9-cb4e-4994-f41b-9d5a87bb5283"
      },
      "execution_count": null,
      "outputs": [
        {
          "output_type": "display_data",
          "data": {
            "text/plain": "<Figure size 1500x200 with 1 Axes>",
            "image/png": "[encoded data removed]"
          },
          "metadata": {}
        }
      ]
    },
    {
      "cell_type": "code",
      "source": [
        "x_train[0]"
      ],
      "metadata": {
        "execution": {
          "iopub.status.busy": "2024-04-18T09:33:21.339979Z",
          "iopub.execute_input": "2024-04-18T09:33:21.340503Z",
          "iopub.status.idle": "2024-04-18T09:33:21.350568Z",
          "shell.execute_reply.started": "2024-04-18T09:33:21.340453Z",
          "shell.execute_reply": "2024-04-18T09:33:21.349264Z"
        },
        "trusted": true,
        "id": "19aIgARqplQC",
        "outputId": "3bc9eba6-e6c9-444e-ee70-6cb125cb3f03"
      },
      "execution_count": null,
      "outputs": [
        {
          "execution_count": 20,
          "output_type": "execute_result",
          "data": {
            "text/plain": "array([[[ 59,  62,  63],\n        [ 43,  46,  45],\n        [ 50,  48,  43],\n        ...,\n        [158, 132, 108],\n        [152, 125, 102],\n        [148, 124, 103]],\n\n       [[ 16,  20,  20],\n        [  0,   0,   0],\n        [ 18,   8,   0],\n        ...,\n        [123,  88,  55],\n        [119,  83,  50],\n        [122,  87,  57]],\n\n       [[ 25,  24,  21],\n        [ 16,   7,   0],\n        [ 49,  27,   8],\n        ...,\n        [118,  84,  50],\n        [120,  84,  50],\n        [109,  73,  42]],\n\n       ...,\n\n       [[208, 170,  96],\n        [201, 153,  34],\n        [198, 161,  26],\n        ...,\n        [160, 133,  70],\n        [ 56,  31,   7],\n        [ 53,  34,  20]],\n\n       [[180, 139,  96],\n        [173, 123,  42],\n        [186, 144,  30],\n        ...,\n        [184, 148,  94],\n        [ 97,  62,  34],\n        [ 83,  53,  34]],\n\n       [[177, 144, 116],\n        [168, 129,  94],\n        [179, 142,  87],\n        ...,\n        [216, 184, 140],\n        [151, 118,  84],\n        [123,  92,  72]]], dtype=uint8)"
          },
          "metadata": {}
        }
      ]
    },
    {
      "cell_type": "code",
      "source": [
        "x_train = x_train/255\n",
        "x_test = x_test/255"
      ],
      "metadata": {
        "execution": {
          "iopub.status.busy": "2024-04-18T09:33:38.279299Z",
          "iopub.execute_input": "2024-04-18T09:33:38.279976Z",
          "iopub.status.idle": "2024-04-18T09:33:38.931918Z",
          "shell.execute_reply.started": "2024-04-18T09:33:38.279934Z",
          "shell.execute_reply": "2024-04-18T09:33:38.930694Z"
        },
        "trusted": true,
        "id": "BF9LnNgoplQC"
      },
      "execution_count": null,
      "outputs": []
    },
    {
      "cell_type": "code",
      "source": [
        "model = Sequential([\n",
        "    Conv2D(filters=32, kernel_size=(3,3), activation=\"relu\", input_shape=(32,32,3)),\n",
        "    MaxPooling2D(pool_size=(2,2)),\n",
        "\n",
        "    Conv2D(filters=64, kernel_size=(3,3), activation=\"relu\"),\n",
        "    MaxPooling2D(pool_size=(2,2)),\n",
        "\n",
        "    Flatten(),\n",
        "    Dense(64, activation=\"relu\"),\n",
        "    Dense(10, activation=\"softmax\")\n",
        "])"
      ],
      "metadata": {
        "execution": {
          "iopub.status.busy": "2024-04-18T09:42:29.761312Z",
          "iopub.execute_input": "2024-04-18T09:42:29.761736Z",
          "iopub.status.idle": "2024-04-18T09:42:29.811779Z",
          "shell.execute_reply.started": "2024-04-18T09:42:29.761706Z",
          "shell.execute_reply": "2024-04-18T09:42:29.810829Z"
        },
        "trusted": true,
        "id": "_isySMUYplQC"
      },
      "execution_count": null,
      "outputs": []
    },
    {
      "cell_type": "code",
      "source": [
        "model.compile(optimizer=\"adam\",loss=\"sparse_categorical_crossentropy\",\n",
        "             metrics=[\"accuracy\"])"
      ],
      "metadata": {
        "execution": {
          "iopub.status.busy": "2024-04-18T09:43:55.81297Z",
          "iopub.execute_input": "2024-04-18T09:43:55.813383Z",
          "iopub.status.idle": "2024-04-18T09:43:55.823827Z",
          "shell.execute_reply.started": "2024-04-18T09:43:55.813349Z",
          "shell.execute_reply": "2024-04-18T09:43:55.822445Z"
        },
        "trusted": true,
        "id": "sz-_Nw9-plQD"
      },
      "execution_count": null,
      "outputs": []
    },
    {
      "cell_type": "code",
      "source": [
        "model.fit(x_train,y_train, epochs=15)"
      ],
      "metadata": {
        "execution": {
          "iopub.status.busy": "2024-04-18T09:44:08.724543Z",
          "iopub.execute_input": "2024-04-18T09:44:08.724987Z",
          "iopub.status.idle": "2024-04-18T09:52:19.314392Z",
          "shell.execute_reply.started": "2024-04-18T09:44:08.724952Z",
          "shell.execute_reply": "2024-04-18T09:52:19.313061Z"
        },
        "trusted": true,
        "id": "TUhu_FA8plQD",
        "outputId": "78e73125-71ce-469c-a1c7-2c78bf1fa39f"
      },
      "execution_count": null,
      "outputs": [
        {
          "name": "stdout",
          "text": "Epoch 1/15\n\u001b[1m1563/1563\u001b[0m \u001b[32m━━━━━━━━━━━━━━━━━━━━\u001b[0m\u001b[37m\u001b[0m \u001b[1m34s\u001b[0m 21ms/step - accuracy: 0.3369 - loss: 1.7954\nEpoch 2/15\n\u001b[1m1563/1563\u001b[0m \u001b[32m━━━━━━━━━━━━━━━━━━━━\u001b[0m\u001b[37m\u001b[0m \u001b[1m32s\u001b[0m 20ms/step - accuracy: 0.5689 - loss: 1.2239\nEpoch 3/15\n\u001b[1m1563/1563\u001b[0m \u001b[32m━━━━━━━━━━━━━━━━━━━━\u001b[0m\u001b[37m\u001b[0m \u001b[1m32s\u001b[0m 21ms/step - accuracy: 0.6265 - loss: 1.0599\nEpoch 4/15\n\u001b[1m1563/1563\u001b[0m \u001b[32m━━━━━━━━━━━━━━━━━━━━\u001b[0m\u001b[37m\u001b[0m \u001b[1m32s\u001b[0m 20ms/step - accuracy: 0.6618 - loss: 0.9754\nEpoch 5/15\n\u001b[1m1563/1563\u001b[0m \u001b[32m━━━━━━━━━━━━━━━━━━━━\u001b[0m\u001b[37m\u001b[0m \u001b[1m32s\u001b[0m 20ms/step - accuracy: 0.6809 - loss: 0.9115\nEpoch 6/15\n\u001b[1m1563/1563\u001b[0m \u001b[32m━━━━━━━━━━━━━━━━━━━━\u001b[0m\u001b[37m\u001b[0m \u001b[1m32s\u001b[0m 20ms/step - accuracy: 0.7019 - loss: 0.8614\nEpoch 7/15\n\u001b[1m1563/1563\u001b[0m \u001b[32m━━━━━━━━━━━━━━━━━━━━\u001b[0m\u001b[37m\u001b[0m \u001b[1m41s\u001b[0m 20ms/step - accuracy: 0.7135 - loss: 0.8238\nEpoch 8/15\n\u001b[1m1563/1563\u001b[0m \u001b[32m━━━━━━━━━━━━━━━━━━━━\u001b[0m\u001b[37m\u001b[0m \u001b[1m32s\u001b[0m 20ms/step - accuracy: 0.7264 - loss: 0.7934\nEpoch 9/15\n\u001b[1m1563/1563\u001b[0m \u001b[32m━━━━━━━━━━━━━━━━━━━━\u001b[0m\u001b[37m\u001b[0m \u001b[1m32s\u001b[0m 20ms/step - accuracy: 0.7385 - loss: 0.7550\nEpoch 10/15\n\u001b[1m1563/1563\u001b[0m \u001b[32m━━━━━━━━━━━━━━━━━━━━\u001b[0m\u001b[37m\u001b[0m \u001b[1m32s\u001b[0m 20ms/step - accuracy: 0.7473 - loss: 0.7341\nEpoch 11/15\n\u001b[1m1563/1563\u001b[0m \u001b[32m━━━━━━━━━━━━━━━━━━━━\u001b[0m\u001b[37m\u001b[0m \u001b[1m32s\u001b[0m 20ms/step - accuracy: 0.7521 - loss: 0.7151\nEpoch 12/15\n\u001b[1m1563/1563\u001b[0m \u001b[32m━━━━━━━━━━━━━━━━━━━━\u001b[0m\u001b[37m\u001b[0m \u001b[1m32s\u001b[0m 20ms/step - accuracy: 0.7614 - loss: 0.6881\nEpoch 13/15\n\u001b[1m1563/1563\u001b[0m \u001b[32m━━━━━━━━━━━━━━━━━━━━\u001b[0m\u001b[37m\u001b[0m \u001b[1m32s\u001b[0m 20ms/step - accuracy: 0.7751 - loss: 0.6572\nEpoch 14/15\n\u001b[1m1563/1563\u001b[0m \u001b[32m━━━━━━━━━━━━━━━━━━━━\u001b[0m\u001b[37m\u001b[0m \u001b[1m32s\u001b[0m 20ms/step - accuracy: 0.7742 - loss: 0.6484\nEpoch 15/15\n\u001b[1m1563/1563\u001b[0m \u001b[32m━━━━━━━━━━━━━━━━━━━━\u001b[0m\u001b[37m\u001b[0m \u001b[1m31s\u001b[0m 20ms/step - accuracy: 0.7861 - loss: 0.6222\n",
          "output_type": "stream"
        },
        {
          "execution_count": 31,
          "output_type": "execute_result",
          "data": {
            "text/plain": "<keras.src.callbacks.history.History at 0x7b3c5fbf8370>"
          },
          "metadata": {}
        }
      ]
    },
    {
      "cell_type": "code",
      "source": [
        "model.evaluate(x_test,y_test)"
      ],
      "metadata": {
        "execution": {
          "iopub.status.busy": "2024-04-18T09:53:56.003811Z",
          "iopub.execute_input": "2024-04-18T09:53:56.004241Z",
          "iopub.status.idle": "2024-04-18T09:53:59.055284Z",
          "shell.execute_reply.started": "2024-04-18T09:53:56.004185Z",
          "shell.execute_reply": "2024-04-18T09:53:59.054025Z"
        },
        "trusted": true,
        "id": "VSzLDp6wplQD",
        "outputId": "5f8f62c8-2f20-4973-99ec-947bd495a67e"
      },
      "execution_count": null,
      "outputs": [
        {
          "name": "stdout",
          "text": "\u001b[1m313/313\u001b[0m \u001b[32m━━━━━━━━━━━━━━━━━━━━\u001b[0m\u001b[37m\u001b[0m \u001b[1m2s\u001b[0m 7ms/step - accuracy: 0.7034 - loss: 0.9265\n",
          "output_type": "stream"
        },
        {
          "execution_count": 34,
          "output_type": "execute_result",
          "data": {
            "text/plain": "[0.9323089718818665, 0.7024999856948853]"
          },
          "metadata": {}
        }
      ]
    },
    {
      "cell_type": "code",
      "source": [
        "y_pred = model.predict(x_test)\n",
        "y_pred[:3]"
      ],
      "metadata": {
        "execution": {
          "iopub.status.busy": "2024-04-18T09:54:02.959278Z",
          "iopub.execute_input": "2024-04-18T09:54:02.959968Z",
          "iopub.status.idle": "2024-04-18T09:54:05.887431Z",
          "shell.execute_reply.started": "2024-04-18T09:54:02.959931Z",
          "shell.execute_reply": "2024-04-18T09:54:05.886284Z"
        },
        "trusted": true,
        "id": "j2kye6qNplQD",
        "outputId": "ed8914f8-17a2-42f4-c1ed-2487514b5e99"
      },
      "execution_count": null,
      "outputs": [
        {
          "name": "stdout",
          "text": "\u001b[1m313/313\u001b[0m \u001b[32m━━━━━━━━━━━━━━━━━━━━\u001b[0m\u001b[37m\u001b[0m \u001b[1m2s\u001b[0m 7ms/step\n",
          "output_type": "stream"
        },
        {
          "execution_count": 35,
          "output_type": "execute_result",
          "data": {
            "text/plain": "array([[2.1154896e-05, 1.1777813e-06, 1.2440066e-04, 6.4359295e-01,\n        2.2245986e-05, 3.5352170e-01, 1.4248514e-03, 1.2424462e-06,\n        1.2795351e-03, 1.0708733e-05],\n       [5.3126173e-04, 2.0118390e-01, 1.4602837e-07, 4.7019864e-07,\n        2.0092060e-07, 4.4068069e-09, 4.2223931e-07, 1.7673205e-11,\n        7.9747385e-01, 8.0975599e-04],\n       [4.4182234e-02, 7.3164415e-01, 8.9991483e-04, 9.5054304e-04,\n        2.3681114e-03, 4.9983802e-05, 4.3079999e-04, 3.5156998e-05,\n        1.3403209e-01, 8.5407078e-02]], dtype=float32)"
          },
          "metadata": {}
        }
      ]
    },
    {
      "cell_type": "code",
      "source": [
        "y_pred1= [np.argmax(element) for element in y_pred]\n",
        "y_pred1[:3]"
      ],
      "metadata": {
        "execution": {
          "iopub.status.busy": "2024-04-18T09:55:30.070144Z",
          "iopub.execute_input": "2024-04-18T09:55:30.070803Z",
          "iopub.status.idle": "2024-04-18T09:55:30.121615Z",
          "shell.execute_reply.started": "2024-04-18T09:55:30.070752Z",
          "shell.execute_reply": "2024-04-18T09:55:30.120443Z"
        },
        "trusted": true,
        "id": "IUiRgpmKplQE",
        "outputId": "decf7206-e52a-4a7e-8d42-6fce869fd043"
      },
      "execution_count": null,
      "outputs": [
        {
          "execution_count": 38,
          "output_type": "execute_result",
          "data": {
            "text/plain": "[3, 8, 1]"
          },
          "metadata": {}
        }
      ]
    },
    {
      "cell_type": "code",
      "source": [
        "y_test[:3]"
      ],
      "metadata": {
        "execution": {
          "iopub.status.busy": "2024-04-18T09:56:10.902266Z",
          "iopub.execute_input": "2024-04-18T09:56:10.902693Z",
          "iopub.status.idle": "2024-04-18T09:56:10.910144Z",
          "shell.execute_reply.started": "2024-04-18T09:56:10.90266Z",
          "shell.execute_reply": "2024-04-18T09:56:10.908798Z"
        },
        "trusted": true,
        "id": "yVsXgZyyplQE",
        "outputId": "d18ae5fc-73bf-4cfb-b079-ee045c0c223a"
      },
      "execution_count": null,
      "outputs": [
        {
          "execution_count": 40,
          "output_type": "execute_result",
          "data": {
            "text/plain": "array([3, 8, 8], dtype=uint8)"
          },
          "metadata": {}
        }
      ]
    },
    {
      "cell_type": "code",
      "source": [
        "y_pred1[:10]"
      ],
      "metadata": {
        "execution": {
          "iopub.status.busy": "2024-04-18T09:56:26.291085Z",
          "iopub.execute_input": "2024-04-18T09:56:26.292063Z",
          "iopub.status.idle": "2024-04-18T09:56:26.300631Z",
          "shell.execute_reply.started": "2024-04-18T09:56:26.292012Z",
          "shell.execute_reply": "2024-04-18T09:56:26.299251Z"
        },
        "trusted": true,
        "id": "xzQsMousplQE",
        "outputId": "834d0955-6622-45b9-b936-e5d7d85b7ca6"
      },
      "execution_count": null,
      "outputs": [
        {
          "execution_count": 41,
          "output_type": "execute_result",
          "data": {
            "text/plain": "[3, 8, 1, 0, 6, 6, 1, 6, 4, 9]"
          },
          "metadata": {}
        }
      ]
    },
    {
      "cell_type": "code",
      "source": [
        "ornek(x_test, y_test, 0)"
      ],
      "metadata": {
        "execution": {
          "iopub.status.busy": "2024-04-18T09:56:44.189856Z",
          "iopub.execute_input": "2024-04-18T09:56:44.190542Z",
          "iopub.status.idle": "2024-04-18T09:56:44.344485Z",
          "shell.execute_reply.started": "2024-04-18T09:56:44.190489Z",
          "shell.execute_reply": "2024-04-18T09:56:44.34363Z"
        },
        "trusted": true,
        "id": "vRcd_PshplQE",
        "outputId": "b1b68997-ffb9-46a8-e15b-138aed752724"
      },
      "execution_count": null,
      "outputs": [
        {
          "output_type": "display_data",
          "data": {
            "text/plain": "<Figure size 1500x200 with 1 Axes>",
            "image/png": "[encoded data removed]"
          },
          "metadata": {}
        }
      ]
    },
    {
      "cell_type": "code",
      "source": [
        "ornek(x_test, y_test, 1)"
      ],
      "metadata": {
        "execution": {
          "iopub.status.busy": "2024-04-18T09:57:07.882358Z",
          "iopub.execute_input": "2024-04-18T09:57:07.883021Z",
          "iopub.status.idle": "2024-04-18T09:57:08.096411Z",
          "shell.execute_reply.started": "2024-04-18T09:57:07.882985Z",
          "shell.execute_reply": "2024-04-18T09:57:08.0953Z"
        },
        "trusted": true,
        "id": "Ct7bwZP8plQE",
        "outputId": "1b92811b-a5c9-44ea-a6c7-c94da9978606"
      },
      "execution_count": null,
      "outputs": [
        {
          "output_type": "display_data",
          "data": {
            "text/plain": "<Figure size 1500x200 with 1 Axes>",
            "image/png": "[encoded data removed]"
          },
          "metadata": {}
        }
      ]
    },
    {
      "cell_type": "code",
      "source": [],
      "metadata": {
        "trusted": true,
        "id": "6D3tz_lIplQE"
      },
      "execution_count": null,
      "outputs": []
    },
    {
      "cell_type": "code",
      "source": [],
      "metadata": {
        "id": "8s_T1pysplQE"
      },
      "execution_count": null,
      "outputs": []
    }
  ]
}